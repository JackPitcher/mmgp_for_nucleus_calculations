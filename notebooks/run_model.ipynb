{
 "cells": [
  {
   "cell_type": "code",
   "execution_count": 1,
   "metadata": {
    "collapsed": true
   },
   "outputs": [],
   "source": [
    "import tensorflow as tf\n",
    "import gpflow as gpf\n",
    "import numpy as np\n",
    "from scipy.stats import qmc\n",
    "import matplotlib.pyplot as plt"
   ]
  },
  {
   "cell_type": "code",
   "execution_count": 2,
   "outputs": [],
   "source": [
    "from model.multi_task_gp import MultiTaskGP"
   ],
   "metadata": {
    "collapsed": false,
    "pycharm": {
     "name": "#%%\n"
    }
   }
  },
  {
   "cell_type": "code",
   "execution_count": 3,
   "outputs": [],
   "source": [
    "def fh1(x):\n",
    "    return np.power(6 * x - 2, 2) * np.sin(12 * x - 4) + 10\n",
    "\n",
    "\n",
    "def fh2(x):\n",
    "    return 1.5 * (x + 2.5) * np.sqrt(fh1(x))\n",
    "\n",
    "\n",
    "def fh3(x):\n",
    "    return 5 * x * x * np.sin(12 ** x)\n",
    "\n",
    "\n",
    "def fl1(x):\n",
    "    return 2 * (x + 2) * np.sqrt(fh1(x) - 1.3 * (np.power(6 * x - 2, 2) - 6 * x))\n",
    "\n",
    "\n",
    "def fl2(x):\n",
    "    return np.power(6 * x - 2, 2) * np.sin(8 * x - 4) + 10 - (np.power(6 * x - 2, 2) - 6 * x)\n",
    "\n",
    "\n",
    "def fl3(x):\n",
    "    return fh3(x) + (x * x * x * np.sin(3 * x - 0.5)) + 4 * np.cos(2 * x)\n",
    "\n",
    "\n",
    "fh = [fh1, fh2, fh3]\n",
    "fl = [fl1, fl2, fl3]"
   ],
   "metadata": {
    "collapsed": false,
    "pycharm": {
     "name": "#%%\n"
    }
   }
  },
  {
   "cell_type": "code",
   "execution_count": 4,
   "outputs": [],
   "source": [
    "sampler = qmc.LatinHypercube(d=1)\n",
    "sample_hf = sampler.random(n=6).transpose()[0]\n",
    "sample_lf = sampler.random(n=10).transpose()[0]\n",
    "sample_lf = np.concatenate((sample_hf, sample_lf))"
   ],
   "metadata": {
    "collapsed": false,
    "pycharm": {
     "name": "#%%\n"
    }
   }
  },
  {
   "cell_type": "code",
   "execution_count": 5,
   "outputs": [],
   "source": [
    "x = sample_lf.reshape(sample_lf.shape[0], 1)"
   ],
   "metadata": {
    "collapsed": false,
    "pycharm": {
     "name": "#%%\n"
    }
   }
  },
  {
   "cell_type": "code",
   "execution_count": 6,
   "outputs": [],
   "source": [
    "X_augmented = np.vstack((np.hstack((x, np.zeros_like(x))), np.hstack((x, np.ones_like(x))), np.hstack((x, np.ones_like(x) * 2))))\n",
    "Y_augmented = np.vstack((np.hstack((fl1(x), np.zeros_like(x))), np.hstack((fl2(x), np.ones_like(x))), np.hstack((fl3(x), np.ones_like(x) * 2))))"
   ],
   "metadata": {
    "collapsed": false,
    "pycharm": {
     "name": "#%%\n"
    }
   }
  },
  {
   "cell_type": "code",
   "execution_count": 7,
   "outputs": [],
   "source": [
    "output_dim = 3 # Number of outputs\n",
    "rank = 1 # Rank of W\n",
    "k1 = gpf.kernels.Matern32(1, active_dims=[0]) # Base kernel\n",
    "coreg = gpf.kernels.Coregion(output_dim=output_dim, rank=rank, active_dims=[1]) # Coregion kernel\n",
    "white = gpf.kernels.White()\n",
    "coreg.W = np.random.rand(output_dim, rank) # Initialise the W matrix\n",
    "kern = k1 * coreg + white"
   ],
   "metadata": {
    "collapsed": false,
    "pycharm": {
     "name": "#%%\n"
    }
   }
  },
  {
   "cell_type": "code",
   "execution_count": 8,
   "outputs": [],
   "source": [
    "# This likelihood switches between Gaussian noise with different variances for each f_i:\n",
    "lik = gpf.likelihoods.SwitchedLikelihood([gpf.likelihoods.Gaussian(), gpf.likelihoods.Gaussian(), gpf.likelihoods.Gaussian()])\n",
    "\n",
    "# now build the GP model as normal\n",
    "m = MultiTaskGP([X_augmented, Y_augmented], kernel=kern, likelihood=lik)\n",
    "# Here we specify num_latent=1 to avoid getting two outputs when predicting as Y_augmented is 2-dimensional"
   ],
   "metadata": {
    "collapsed": false,
    "pycharm": {
     "name": "#%%\n"
    }
   }
  },
  {
   "cell_type": "code",
   "execution_count": 9,
   "outputs": [
    {
     "ename": "NotImplementedError",
     "evalue": "in user code:\n\n    File \"c:\\users\\jackp\\pycharmprojects\\triumf_gaussian_process\\venv\\lib\\site-packages\\gpflow\\optimizers\\scipy.py\", line 120, in _tf_eval  *\n        loss, grads = _compute_loss_and_gradients(\n    File \"c:\\users\\jackp\\pycharmprojects\\triumf_gaussian_process\\venv\\lib\\site-packages\\gpflow\\optimizers\\scipy.py\", line 223, in _compute_loss_and_gradients  *\n        loss = loss_closure()\n    File \"c:\\users\\jackp\\pycharmprojects\\triumf_gaussian_process\\venv\\lib\\site-packages\\gpflow\\models\\training_mixins.py\", line 60, in training_loss  *\n        return self._training_loss()  # type: ignore\n    File \"c:\\users\\jackp\\pycharmprojects\\triumf_gaussian_process\\venv\\lib\\site-packages\\gpflow\\models\\model.py\", line 54, in _training_loss  *\n        return -(self.maximum_log_likelihood_objective(*args, **kwargs) + self.log_prior_density())\n    File \"C:\\Users\\jackp\\PycharmProjects\\triumf_gaussian_process\\model\\multi_task_gp.py\", line 24, in maximum_log_likelihood_objective  *\n        return self.log_marginal_likelihood()\n    File \"C:\\Users\\jackp\\PycharmProjects\\triumf_gaussian_process\\model\\multi_task_gp.py\", line 29, in log_marginal_likelihood  *\n        ks = add_noise_cov(K, self.likelihood.conditional_variance(X))\n    File \"c:\\users\\jackp\\pycharmprojects\\triumf_gaussian_process\\venv\\lib\\site-packages\\gpflow\\likelihoods\\base.py\", line 134, in conditional_variance  *\n        var_Y = self._conditional_variance(F)\n    File \"c:\\users\\jackp\\pycharmprojects\\triumf_gaussian_process\\venv\\lib\\site-packages\\gpflow\\likelihoods\\base.py\", line 493, in _conditional_variance  *\n        raise NotImplementedError\n\n    NotImplementedError: \n",
     "output_type": "error",
     "traceback": [
      "\u001B[1;31m---------------------------------------------------------------------------\u001B[0m",
      "\u001B[1;31mNotImplementedError\u001B[0m                       Traceback (most recent call last)",
      "Cell \u001B[1;32mIn [9], line 9\u001B[0m\n\u001B[0;32m      2\u001B[0m     optimizer \u001B[38;5;241m=\u001B[39m gpf\u001B[38;5;241m.\u001B[39moptimizers\u001B[38;5;241m.\u001B[39mScipy()\n\u001B[0;32m      3\u001B[0m     optimizer\u001B[38;5;241m.\u001B[39mminimize(\n\u001B[0;32m      4\u001B[0m         model\u001B[38;5;241m.\u001B[39mtraining_loss,\n\u001B[0;32m      5\u001B[0m         variables\u001B[38;5;241m=\u001B[39mmodel\u001B[38;5;241m.\u001B[39mtrainable_variables,\n\u001B[0;32m      6\u001B[0m         method\u001B[38;5;241m=\u001B[39m\u001B[38;5;124m\"\u001B[39m\u001B[38;5;124ml-bfgs-b\u001B[39m\u001B[38;5;124m\"\u001B[39m,\n\u001B[0;32m      7\u001B[0m         options\u001B[38;5;241m=\u001B[39m{\u001B[38;5;124m\"\u001B[39m\u001B[38;5;124mdisp\u001B[39m\u001B[38;5;124m\"\u001B[39m: \u001B[38;5;28;01mTrue\u001B[39;00m, \u001B[38;5;124m\"\u001B[39m\u001B[38;5;124mmaxiter\u001B[39m\u001B[38;5;124m\"\u001B[39m: \u001B[38;5;241m1000\u001B[39m},\n\u001B[0;32m      8\u001B[0m     )\n\u001B[1;32m----> 9\u001B[0m \u001B[43moptimize_model_with_scipy\u001B[49m\u001B[43m(\u001B[49m\u001B[43mm\u001B[49m\u001B[43m)\u001B[49m\n",
      "Cell \u001B[1;32mIn [9], line 3\u001B[0m, in \u001B[0;36moptimize_model_with_scipy\u001B[1;34m(model)\u001B[0m\n\u001B[0;32m      1\u001B[0m \u001B[38;5;28;01mdef\u001B[39;00m \u001B[38;5;21moptimize_model_with_scipy\u001B[39m(model):\n\u001B[0;32m      2\u001B[0m     optimizer \u001B[38;5;241m=\u001B[39m gpf\u001B[38;5;241m.\u001B[39moptimizers\u001B[38;5;241m.\u001B[39mScipy()\n\u001B[1;32m----> 3\u001B[0m     \u001B[43moptimizer\u001B[49m\u001B[38;5;241;43m.\u001B[39;49m\u001B[43mminimize\u001B[49m\u001B[43m(\u001B[49m\n\u001B[0;32m      4\u001B[0m \u001B[43m        \u001B[49m\u001B[43mmodel\u001B[49m\u001B[38;5;241;43m.\u001B[39;49m\u001B[43mtraining_loss\u001B[49m\u001B[43m,\u001B[49m\n\u001B[0;32m      5\u001B[0m \u001B[43m        \u001B[49m\u001B[43mvariables\u001B[49m\u001B[38;5;241;43m=\u001B[39;49m\u001B[43mmodel\u001B[49m\u001B[38;5;241;43m.\u001B[39;49m\u001B[43mtrainable_variables\u001B[49m\u001B[43m,\u001B[49m\n\u001B[0;32m      6\u001B[0m \u001B[43m        \u001B[49m\u001B[43mmethod\u001B[49m\u001B[38;5;241;43m=\u001B[39;49m\u001B[38;5;124;43m\"\u001B[39;49m\u001B[38;5;124;43ml-bfgs-b\u001B[39;49m\u001B[38;5;124;43m\"\u001B[39;49m\u001B[43m,\u001B[49m\n\u001B[0;32m      7\u001B[0m \u001B[43m        \u001B[49m\u001B[43moptions\u001B[49m\u001B[38;5;241;43m=\u001B[39;49m\u001B[43m{\u001B[49m\u001B[38;5;124;43m\"\u001B[39;49m\u001B[38;5;124;43mdisp\u001B[39;49m\u001B[38;5;124;43m\"\u001B[39;49m\u001B[43m:\u001B[49m\u001B[43m \u001B[49m\u001B[38;5;28;43;01mTrue\u001B[39;49;00m\u001B[43m,\u001B[49m\u001B[43m \u001B[49m\u001B[38;5;124;43m\"\u001B[39;49m\u001B[38;5;124;43mmaxiter\u001B[39;49m\u001B[38;5;124;43m\"\u001B[39;49m\u001B[43m:\u001B[49m\u001B[43m \u001B[49m\u001B[38;5;241;43m1000\u001B[39;49m\u001B[43m}\u001B[49m\u001B[43m,\u001B[49m\n\u001B[0;32m      8\u001B[0m \u001B[43m    \u001B[49m\u001B[43m)\u001B[49m\n",
      "File \u001B[1;32mc:\\users\\jackp\\pycharmprojects\\triumf_gaussian_process\\venv\\lib\\site-packages\\gpflow\\optimizers\\scipy.py:94\u001B[0m, in \u001B[0;36mScipy.minimize\u001B[1;34m(self, closure, variables, method, step_callback, compile, allow_unused_variables, **scipy_kwargs)\u001B[0m\n\u001B[0;32m     91\u001B[0m     callback \u001B[38;5;241m=\u001B[39m \u001B[38;5;28mself\u001B[39m\u001B[38;5;241m.\u001B[39mcallback_func(variables, step_callback)\n\u001B[0;32m     92\u001B[0m     scipy_kwargs\u001B[38;5;241m.\u001B[39mupdate(\u001B[38;5;28mdict\u001B[39m(callback\u001B[38;5;241m=\u001B[39mcallback))\n\u001B[1;32m---> 94\u001B[0m \u001B[38;5;28;01mreturn\u001B[39;00m scipy\u001B[38;5;241m.\u001B[39moptimize\u001B[38;5;241m.\u001B[39mminimize(\n\u001B[0;32m     95\u001B[0m     func, initial_params, jac\u001B[38;5;241m=\u001B[39m\u001B[38;5;28;01mTrue\u001B[39;00m, method\u001B[38;5;241m=\u001B[39mmethod, \u001B[38;5;241m*\u001B[39m\u001B[38;5;241m*\u001B[39mscipy_kwargs\n\u001B[0;32m     96\u001B[0m )\n",
      "File \u001B[1;32mc:\\users\\jackp\\pycharmprojects\\triumf_gaussian_process\\venv\\lib\\site-packages\\scipy\\optimize\\_minimize.py:699\u001B[0m, in \u001B[0;36mminimize\u001B[1;34m(fun, x0, args, method, jac, hess, hessp, bounds, constraints, tol, callback, options)\u001B[0m\n\u001B[0;32m    696\u001B[0m     res \u001B[38;5;241m=\u001B[39m _minimize_newtoncg(fun, x0, args, jac, hess, hessp, callback,\n\u001B[0;32m    697\u001B[0m                              \u001B[38;5;241m*\u001B[39m\u001B[38;5;241m*\u001B[39moptions)\n\u001B[0;32m    698\u001B[0m \u001B[38;5;28;01melif\u001B[39;00m meth \u001B[38;5;241m==\u001B[39m \u001B[38;5;124m'\u001B[39m\u001B[38;5;124ml-bfgs-b\u001B[39m\u001B[38;5;124m'\u001B[39m:\n\u001B[1;32m--> 699\u001B[0m     res \u001B[38;5;241m=\u001B[39m _minimize_lbfgsb(fun, x0, args, jac, bounds,\n\u001B[0;32m    700\u001B[0m                            callback\u001B[38;5;241m=\u001B[39mcallback, \u001B[38;5;241m*\u001B[39m\u001B[38;5;241m*\u001B[39moptions)\n\u001B[0;32m    701\u001B[0m \u001B[38;5;28;01melif\u001B[39;00m meth \u001B[38;5;241m==\u001B[39m \u001B[38;5;124m'\u001B[39m\u001B[38;5;124mtnc\u001B[39m\u001B[38;5;124m'\u001B[39m:\n\u001B[0;32m    702\u001B[0m     res \u001B[38;5;241m=\u001B[39m _minimize_tnc(fun, x0, args, jac, bounds, callback\u001B[38;5;241m=\u001B[39mcallback,\n\u001B[0;32m    703\u001B[0m                         \u001B[38;5;241m*\u001B[39m\u001B[38;5;241m*\u001B[39moptions)\n",
      "File \u001B[1;32mc:\\users\\jackp\\pycharmprojects\\triumf_gaussian_process\\venv\\lib\\site-packages\\scipy\\optimize\\_lbfgsb_py.py:308\u001B[0m, in \u001B[0;36m_minimize_lbfgsb\u001B[1;34m(fun, x0, args, jac, bounds, disp, maxcor, ftol, gtol, eps, maxfun, maxiter, iprint, callback, maxls, finite_diff_rel_step, **unknown_options)\u001B[0m\n\u001B[0;32m    305\u001B[0m     \u001B[38;5;28;01melse\u001B[39;00m:\n\u001B[0;32m    306\u001B[0m         iprint \u001B[38;5;241m=\u001B[39m disp\n\u001B[1;32m--> 308\u001B[0m sf \u001B[38;5;241m=\u001B[39m \u001B[43m_prepare_scalar_function\u001B[49m\u001B[43m(\u001B[49m\u001B[43mfun\u001B[49m\u001B[43m,\u001B[49m\u001B[43m \u001B[49m\u001B[43mx0\u001B[49m\u001B[43m,\u001B[49m\u001B[43m \u001B[49m\u001B[43mjac\u001B[49m\u001B[38;5;241;43m=\u001B[39;49m\u001B[43mjac\u001B[49m\u001B[43m,\u001B[49m\u001B[43m \u001B[49m\u001B[43margs\u001B[49m\u001B[38;5;241;43m=\u001B[39;49m\u001B[43margs\u001B[49m\u001B[43m,\u001B[49m\u001B[43m \u001B[49m\u001B[43mepsilon\u001B[49m\u001B[38;5;241;43m=\u001B[39;49m\u001B[43meps\u001B[49m\u001B[43m,\u001B[49m\n\u001B[0;32m    309\u001B[0m \u001B[43m                              \u001B[49m\u001B[43mbounds\u001B[49m\u001B[38;5;241;43m=\u001B[39;49m\u001B[43mnew_bounds\u001B[49m\u001B[43m,\u001B[49m\n\u001B[0;32m    310\u001B[0m \u001B[43m                              \u001B[49m\u001B[43mfinite_diff_rel_step\u001B[49m\u001B[38;5;241;43m=\u001B[39;49m\u001B[43mfinite_diff_rel_step\u001B[49m\u001B[43m)\u001B[49m\n\u001B[0;32m    312\u001B[0m func_and_grad \u001B[38;5;241m=\u001B[39m sf\u001B[38;5;241m.\u001B[39mfun_and_grad\n\u001B[0;32m    314\u001B[0m fortran_int \u001B[38;5;241m=\u001B[39m _lbfgsb\u001B[38;5;241m.\u001B[39mtypes\u001B[38;5;241m.\u001B[39mintvar\u001B[38;5;241m.\u001B[39mdtype\n",
      "File \u001B[1;32mc:\\users\\jackp\\pycharmprojects\\triumf_gaussian_process\\venv\\lib\\site-packages\\scipy\\optimize\\_optimize.py:263\u001B[0m, in \u001B[0;36m_prepare_scalar_function\u001B[1;34m(fun, x0, jac, args, bounds, epsilon, finite_diff_rel_step, hess)\u001B[0m\n\u001B[0;32m    259\u001B[0m     bounds \u001B[38;5;241m=\u001B[39m (\u001B[38;5;241m-\u001B[39mnp\u001B[38;5;241m.\u001B[39minf, np\u001B[38;5;241m.\u001B[39minf)\n\u001B[0;32m    261\u001B[0m \u001B[38;5;66;03m# ScalarFunction caches. Reuse of fun(x) during grad\u001B[39;00m\n\u001B[0;32m    262\u001B[0m \u001B[38;5;66;03m# calculation reduces overall function evaluations.\u001B[39;00m\n\u001B[1;32m--> 263\u001B[0m sf \u001B[38;5;241m=\u001B[39m \u001B[43mScalarFunction\u001B[49m\u001B[43m(\u001B[49m\u001B[43mfun\u001B[49m\u001B[43m,\u001B[49m\u001B[43m \u001B[49m\u001B[43mx0\u001B[49m\u001B[43m,\u001B[49m\u001B[43m \u001B[49m\u001B[43margs\u001B[49m\u001B[43m,\u001B[49m\u001B[43m \u001B[49m\u001B[43mgrad\u001B[49m\u001B[43m,\u001B[49m\u001B[43m \u001B[49m\u001B[43mhess\u001B[49m\u001B[43m,\u001B[49m\n\u001B[0;32m    264\u001B[0m \u001B[43m                    \u001B[49m\u001B[43mfinite_diff_rel_step\u001B[49m\u001B[43m,\u001B[49m\u001B[43m \u001B[49m\u001B[43mbounds\u001B[49m\u001B[43m,\u001B[49m\u001B[43m \u001B[49m\u001B[43mepsilon\u001B[49m\u001B[38;5;241;43m=\u001B[39;49m\u001B[43mepsilon\u001B[49m\u001B[43m)\u001B[49m\n\u001B[0;32m    266\u001B[0m \u001B[38;5;28;01mreturn\u001B[39;00m sf\n",
      "File \u001B[1;32mc:\\users\\jackp\\pycharmprojects\\triumf_gaussian_process\\venv\\lib\\site-packages\\scipy\\optimize\\_differentiable_functions.py:158\u001B[0m, in \u001B[0;36mScalarFunction.__init__\u001B[1;34m(self, fun, x0, args, grad, hess, finite_diff_rel_step, finite_diff_bounds, epsilon)\u001B[0m\n\u001B[0;32m    155\u001B[0m     \u001B[38;5;28mself\u001B[39m\u001B[38;5;241m.\u001B[39mf \u001B[38;5;241m=\u001B[39m fun_wrapped(\u001B[38;5;28mself\u001B[39m\u001B[38;5;241m.\u001B[39mx)\n\u001B[0;32m    157\u001B[0m \u001B[38;5;28mself\u001B[39m\u001B[38;5;241m.\u001B[39m_update_fun_impl \u001B[38;5;241m=\u001B[39m update_fun\n\u001B[1;32m--> 158\u001B[0m \u001B[38;5;28;43mself\u001B[39;49m\u001B[38;5;241;43m.\u001B[39;49m\u001B[43m_update_fun\u001B[49m\u001B[43m(\u001B[49m\u001B[43m)\u001B[49m\n\u001B[0;32m    160\u001B[0m \u001B[38;5;66;03m# Gradient evaluation\u001B[39;00m\n\u001B[0;32m    161\u001B[0m \u001B[38;5;28;01mif\u001B[39;00m callable(grad):\n",
      "File \u001B[1;32mc:\\users\\jackp\\pycharmprojects\\triumf_gaussian_process\\venv\\lib\\site-packages\\scipy\\optimize\\_differentiable_functions.py:251\u001B[0m, in \u001B[0;36mScalarFunction._update_fun\u001B[1;34m(self)\u001B[0m\n\u001B[0;32m    249\u001B[0m \u001B[38;5;28;01mdef\u001B[39;00m \u001B[38;5;21m_update_fun\u001B[39m(\u001B[38;5;28mself\u001B[39m):\n\u001B[0;32m    250\u001B[0m     \u001B[38;5;28;01mif\u001B[39;00m \u001B[38;5;129;01mnot\u001B[39;00m \u001B[38;5;28mself\u001B[39m\u001B[38;5;241m.\u001B[39mf_updated:\n\u001B[1;32m--> 251\u001B[0m         \u001B[38;5;28;43mself\u001B[39;49m\u001B[38;5;241;43m.\u001B[39;49m\u001B[43m_update_fun_impl\u001B[49m\u001B[43m(\u001B[49m\u001B[43m)\u001B[49m\n\u001B[0;32m    252\u001B[0m         \u001B[38;5;28mself\u001B[39m\u001B[38;5;241m.\u001B[39mf_updated \u001B[38;5;241m=\u001B[39m \u001B[38;5;28;01mTrue\u001B[39;00m\n",
      "File \u001B[1;32mc:\\users\\jackp\\pycharmprojects\\triumf_gaussian_process\\venv\\lib\\site-packages\\scipy\\optimize\\_differentiable_functions.py:155\u001B[0m, in \u001B[0;36mScalarFunction.__init__.<locals>.update_fun\u001B[1;34m()\u001B[0m\n\u001B[0;32m    154\u001B[0m \u001B[38;5;28;01mdef\u001B[39;00m \u001B[38;5;21mupdate_fun\u001B[39m():\n\u001B[1;32m--> 155\u001B[0m     \u001B[38;5;28mself\u001B[39m\u001B[38;5;241m.\u001B[39mf \u001B[38;5;241m=\u001B[39m \u001B[43mfun_wrapped\u001B[49m\u001B[43m(\u001B[49m\u001B[38;5;28;43mself\u001B[39;49m\u001B[38;5;241;43m.\u001B[39;49m\u001B[43mx\u001B[49m\u001B[43m)\u001B[49m\n",
      "File \u001B[1;32mc:\\users\\jackp\\pycharmprojects\\triumf_gaussian_process\\venv\\lib\\site-packages\\scipy\\optimize\\_differentiable_functions.py:137\u001B[0m, in \u001B[0;36mScalarFunction.__init__.<locals>.fun_wrapped\u001B[1;34m(x)\u001B[0m\n\u001B[0;32m    133\u001B[0m \u001B[38;5;28mself\u001B[39m\u001B[38;5;241m.\u001B[39mnfev \u001B[38;5;241m+\u001B[39m\u001B[38;5;241m=\u001B[39m \u001B[38;5;241m1\u001B[39m\n\u001B[0;32m    134\u001B[0m \u001B[38;5;66;03m# Send a copy because the user may overwrite it.\u001B[39;00m\n\u001B[0;32m    135\u001B[0m \u001B[38;5;66;03m# Overwriting results in undefined behaviour because\u001B[39;00m\n\u001B[0;32m    136\u001B[0m \u001B[38;5;66;03m# fun(self.x) will change self.x, with the two no longer linked.\u001B[39;00m\n\u001B[1;32m--> 137\u001B[0m fx \u001B[38;5;241m=\u001B[39m \u001B[43mfun\u001B[49m\u001B[43m(\u001B[49m\u001B[43mnp\u001B[49m\u001B[38;5;241;43m.\u001B[39;49m\u001B[43mcopy\u001B[49m\u001B[43m(\u001B[49m\u001B[43mx\u001B[49m\u001B[43m)\u001B[49m\u001B[43m,\u001B[49m\u001B[43m \u001B[49m\u001B[38;5;241;43m*\u001B[39;49m\u001B[43margs\u001B[49m\u001B[43m)\u001B[49m\n\u001B[0;32m    138\u001B[0m \u001B[38;5;66;03m# Make sure the function returns a true scalar\u001B[39;00m\n\u001B[0;32m    139\u001B[0m \u001B[38;5;28;01mif\u001B[39;00m \u001B[38;5;129;01mnot\u001B[39;00m np\u001B[38;5;241m.\u001B[39misscalar(fx):\n",
      "File \u001B[1;32mc:\\users\\jackp\\pycharmprojects\\triumf_gaussian_process\\venv\\lib\\site-packages\\scipy\\optimize\\_optimize.py:76\u001B[0m, in \u001B[0;36mMemoizeJac.__call__\u001B[1;34m(self, x, *args)\u001B[0m\n\u001B[0;32m     74\u001B[0m \u001B[38;5;28;01mdef\u001B[39;00m \u001B[38;5;21m__call__\u001B[39m(\u001B[38;5;28mself\u001B[39m, x, \u001B[38;5;241m*\u001B[39margs):\n\u001B[0;32m     75\u001B[0m     \u001B[38;5;124;03m\"\"\" returns the the function value \"\"\"\u001B[39;00m\n\u001B[1;32m---> 76\u001B[0m     \u001B[38;5;28;43mself\u001B[39;49m\u001B[38;5;241;43m.\u001B[39;49m\u001B[43m_compute_if_needed\u001B[49m\u001B[43m(\u001B[49m\u001B[43mx\u001B[49m\u001B[43m,\u001B[49m\u001B[43m \u001B[49m\u001B[38;5;241;43m*\u001B[39;49m\u001B[43margs\u001B[49m\u001B[43m)\u001B[49m\n\u001B[0;32m     77\u001B[0m     \u001B[38;5;28;01mreturn\u001B[39;00m \u001B[38;5;28mself\u001B[39m\u001B[38;5;241m.\u001B[39m_value\n",
      "File \u001B[1;32mc:\\users\\jackp\\pycharmprojects\\triumf_gaussian_process\\venv\\lib\\site-packages\\scipy\\optimize\\_optimize.py:70\u001B[0m, in \u001B[0;36mMemoizeJac._compute_if_needed\u001B[1;34m(self, x, *args)\u001B[0m\n\u001B[0;32m     68\u001B[0m \u001B[38;5;28;01mif\u001B[39;00m \u001B[38;5;129;01mnot\u001B[39;00m np\u001B[38;5;241m.\u001B[39mall(x \u001B[38;5;241m==\u001B[39m \u001B[38;5;28mself\u001B[39m\u001B[38;5;241m.\u001B[39mx) \u001B[38;5;129;01mor\u001B[39;00m \u001B[38;5;28mself\u001B[39m\u001B[38;5;241m.\u001B[39m_value \u001B[38;5;129;01mis\u001B[39;00m \u001B[38;5;28;01mNone\u001B[39;00m \u001B[38;5;129;01mor\u001B[39;00m \u001B[38;5;28mself\u001B[39m\u001B[38;5;241m.\u001B[39mjac \u001B[38;5;129;01mis\u001B[39;00m \u001B[38;5;28;01mNone\u001B[39;00m:\n\u001B[0;32m     69\u001B[0m     \u001B[38;5;28mself\u001B[39m\u001B[38;5;241m.\u001B[39mx \u001B[38;5;241m=\u001B[39m np\u001B[38;5;241m.\u001B[39masarray(x)\u001B[38;5;241m.\u001B[39mcopy()\n\u001B[1;32m---> 70\u001B[0m     fg \u001B[38;5;241m=\u001B[39m \u001B[38;5;28;43mself\u001B[39;49m\u001B[38;5;241;43m.\u001B[39;49m\u001B[43mfun\u001B[49m\u001B[43m(\u001B[49m\u001B[43mx\u001B[49m\u001B[43m,\u001B[49m\u001B[43m \u001B[49m\u001B[38;5;241;43m*\u001B[39;49m\u001B[43margs\u001B[49m\u001B[43m)\u001B[49m\n\u001B[0;32m     71\u001B[0m     \u001B[38;5;28mself\u001B[39m\u001B[38;5;241m.\u001B[39mjac \u001B[38;5;241m=\u001B[39m fg[\u001B[38;5;241m1\u001B[39m]\n\u001B[0;32m     72\u001B[0m     \u001B[38;5;28mself\u001B[39m\u001B[38;5;241m.\u001B[39m_value \u001B[38;5;241m=\u001B[39m fg[\u001B[38;5;241m0\u001B[39m]\n",
      "File \u001B[1;32mc:\\users\\jackp\\pycharmprojects\\triumf_gaussian_process\\venv\\lib\\site-packages\\gpflow\\optimizers\\scipy.py:136\u001B[0m, in \u001B[0;36mScipy.eval_func.<locals>._eval\u001B[1;34m(x)\u001B[0m\n\u001B[0;32m    135\u001B[0m \u001B[38;5;28;01mdef\u001B[39;00m \u001B[38;5;21m_eval\u001B[39m(x: AnyNDArray) \u001B[38;5;241m-\u001B[39m\u001B[38;5;241m>\u001B[39m Tuple[AnyNDArray, AnyNDArray]:\n\u001B[1;32m--> 136\u001B[0m     loss, grad \u001B[38;5;241m=\u001B[39m \u001B[43m_tf_eval\u001B[49m\u001B[43m(\u001B[49m\u001B[43mtf\u001B[49m\u001B[38;5;241;43m.\u001B[39;49m\u001B[43mconvert_to_tensor\u001B[49m\u001B[43m(\u001B[49m\u001B[43mx\u001B[49m\u001B[43m)\u001B[49m\u001B[43m)\u001B[49m\n\u001B[0;32m    137\u001B[0m     \u001B[38;5;28;01mreturn\u001B[39;00m loss\u001B[38;5;241m.\u001B[39mnumpy()\u001B[38;5;241m.\u001B[39mastype(np\u001B[38;5;241m.\u001B[39mfloat64), grad\u001B[38;5;241m.\u001B[39mnumpy()\u001B[38;5;241m.\u001B[39mastype(np\u001B[38;5;241m.\u001B[39mfloat64)\n",
      "File \u001B[1;32mc:\\users\\jackp\\pycharmprojects\\triumf_gaussian_process\\venv\\lib\\site-packages\\tensorflow\\python\\util\\traceback_utils.py:153\u001B[0m, in \u001B[0;36mfilter_traceback.<locals>.error_handler\u001B[1;34m(*args, **kwargs)\u001B[0m\n\u001B[0;32m    151\u001B[0m \u001B[38;5;28;01mexcept\u001B[39;00m \u001B[38;5;167;01mException\u001B[39;00m \u001B[38;5;28;01mas\u001B[39;00m e:\n\u001B[0;32m    152\u001B[0m   filtered_tb \u001B[38;5;241m=\u001B[39m _process_traceback_frames(e\u001B[38;5;241m.\u001B[39m__traceback__)\n\u001B[1;32m--> 153\u001B[0m   \u001B[38;5;28;01mraise\u001B[39;00m e\u001B[38;5;241m.\u001B[39mwith_traceback(filtered_tb) \u001B[38;5;28;01mfrom\u001B[39;00m \u001B[38;5;28mNone\u001B[39m\n\u001B[0;32m    154\u001B[0m \u001B[38;5;28;01mfinally\u001B[39;00m:\n\u001B[0;32m    155\u001B[0m   \u001B[38;5;28;01mdel\u001B[39;00m filtered_tb\n",
      "File \u001B[1;32m~\\AppData\\Local\\Temp\\__autograph_generated_filemwp80jiq.py:37\u001B[0m, in \u001B[0;36mouter_factory.<locals>.inner_factory.<locals>.tf___tf_eval\u001B[1;34m(x)\u001B[0m\n\u001B[0;32m     35\u001B[0m grads \u001B[38;5;241m=\u001B[39m ag__\u001B[38;5;241m.\u001B[39mUndefined(\u001B[38;5;124m'\u001B[39m\u001B[38;5;124mgrads\u001B[39m\u001B[38;5;124m'\u001B[39m)\n\u001B[0;32m     36\u001B[0m loss \u001B[38;5;241m=\u001B[39m ag__\u001B[38;5;241m.\u001B[39mUndefined(\u001B[38;5;124m'\u001B[39m\u001B[38;5;124mloss\u001B[39m\u001B[38;5;124m'\u001B[39m)\n\u001B[1;32m---> 37\u001B[0m ag__\u001B[38;5;241m.\u001B[39mif_stmt(ag__\u001B[38;5;241m.\u001B[39mld(first_call), if_body, else_body, get_state, set_state, (\u001B[38;5;124m'\u001B[39m\u001B[38;5;124mgrads\u001B[39m\u001B[38;5;124m'\u001B[39m, \u001B[38;5;124m'\u001B[39m\u001B[38;5;124mloss\u001B[39m\u001B[38;5;124m'\u001B[39m, \u001B[38;5;124m'\u001B[39m\u001B[38;5;124mfirst_call\u001B[39m\u001B[38;5;124m'\u001B[39m), \u001B[38;5;241m2\u001B[39m)\n\u001B[0;32m     38\u001B[0m \u001B[38;5;28;01mtry\u001B[39;00m:\n\u001B[0;32m     39\u001B[0m     do_return \u001B[38;5;241m=\u001B[39m \u001B[38;5;28;01mTrue\u001B[39;00m\n",
      "File \u001B[1;32m~\\AppData\\Local\\Temp\\__autograph_generated_filemwp80jiq.py:28\u001B[0m, in \u001B[0;36mouter_factory.<locals>.inner_factory.<locals>.tf___tf_eval.<locals>.if_body\u001B[1;34m()\u001B[0m\n\u001B[0;32m     26\u001B[0m \u001B[38;5;28;01mdef\u001B[39;00m \u001B[38;5;21mif_body\u001B[39m():\n\u001B[0;32m     27\u001B[0m     \u001B[38;5;28;01mnonlocal\u001B[39;00m grads, loss, first_call\n\u001B[1;32m---> 28\u001B[0m     (loss, grads) \u001B[38;5;241m=\u001B[39m \u001B[43mag__\u001B[49m\u001B[38;5;241;43m.\u001B[39;49m\u001B[43mconverted_call\u001B[49m\u001B[43m(\u001B[49m\u001B[43mag__\u001B[49m\u001B[38;5;241;43m.\u001B[39;49m\u001B[43mld\u001B[49m\u001B[43m(\u001B[49m\u001B[43m_compute_loss_and_gradients\u001B[49m\u001B[43m)\u001B[49m\u001B[43m,\u001B[49m\u001B[43m \u001B[49m\u001B[43m(\u001B[49m\u001B[43mag__\u001B[49m\u001B[38;5;241;43m.\u001B[39;49m\u001B[43mld\u001B[49m\u001B[43m(\u001B[49m\u001B[43mclosure\u001B[49m\u001B[43m)\u001B[49m\u001B[43m,\u001B[49m\u001B[43m \u001B[49m\u001B[43mag__\u001B[49m\u001B[38;5;241;43m.\u001B[39;49m\u001B[43mld\u001B[49m\u001B[43m(\u001B[49m\u001B[43mvariables\u001B[49m\u001B[43m)\u001B[49m\u001B[43m,\u001B[49m\u001B[43m \u001B[49m\u001B[43mag__\u001B[49m\u001B[38;5;241;43m.\u001B[39;49m\u001B[43mld\u001B[49m\u001B[43m(\u001B[49m\u001B[43mtf\u001B[49m\u001B[43m)\u001B[49m\u001B[38;5;241;43m.\u001B[39;49m\u001B[43mUnconnectedGradients\u001B[49m\u001B[38;5;241;43m.\u001B[39;49m\u001B[43mNONE\u001B[49m\u001B[43m)\u001B[49m\u001B[43m,\u001B[49m\u001B[43m \u001B[49m\u001B[38;5;28;43;01mNone\u001B[39;49;00m\u001B[43m,\u001B[49m\u001B[43m \u001B[49m\u001B[43mfscope\u001B[49m\u001B[43m)\u001B[49m\n\u001B[0;32m     29\u001B[0m     grads \u001B[38;5;241m=\u001B[39m ag__\u001B[38;5;241m.\u001B[39mconverted_call(ag__\u001B[38;5;241m.\u001B[39mld(\u001B[38;5;28mcls\u001B[39m)\u001B[38;5;241m.\u001B[39m_filter_unused_variables, (ag__\u001B[38;5;241m.\u001B[39mld(variables), ag__\u001B[38;5;241m.\u001B[39mld(grads), ag__\u001B[38;5;241m.\u001B[39mld(allow_unused_variables)), \u001B[38;5;28;01mNone\u001B[39;00m, fscope)\n\u001B[0;32m     30\u001B[0m     first_call \u001B[38;5;241m=\u001B[39m \u001B[38;5;28;01mFalse\u001B[39;00m\n",
      "File \u001B[1;32m~\\AppData\\Local\\Temp\\__autograph_generated_file77dh8e6w.py:12\u001B[0m, in \u001B[0;36mouter_factory.<locals>.inner_factory.<locals>.tf___compute_loss_and_gradients\u001B[1;34m(loss_closure, variables, unconnected_gradients)\u001B[0m\n\u001B[0;32m     10\u001B[0m \u001B[38;5;28;01mwith\u001B[39;00m ag__\u001B[38;5;241m.\u001B[39mld(tf)\u001B[38;5;241m.\u001B[39mGradientTape(watch_accessed_variables\u001B[38;5;241m=\u001B[39m\u001B[38;5;28;01mFalse\u001B[39;00m) \u001B[38;5;28;01mas\u001B[39;00m tape:\n\u001B[0;32m     11\u001B[0m     ag__\u001B[38;5;241m.\u001B[39mconverted_call(ag__\u001B[38;5;241m.\u001B[39mld(tape)\u001B[38;5;241m.\u001B[39mwatch, (ag__\u001B[38;5;241m.\u001B[39mld(variables),), \u001B[38;5;28;01mNone\u001B[39;00m, fscope)\n\u001B[1;32m---> 12\u001B[0m     loss \u001B[38;5;241m=\u001B[39m ag__\u001B[38;5;241m.\u001B[39mconverted_call(ag__\u001B[38;5;241m.\u001B[39mld(loss_closure), (), \u001B[38;5;28;01mNone\u001B[39;00m, fscope)\n\u001B[0;32m     13\u001B[0m grads \u001B[38;5;241m=\u001B[39m ag__\u001B[38;5;241m.\u001B[39mconverted_call(ag__\u001B[38;5;241m.\u001B[39mld(tape)\u001B[38;5;241m.\u001B[39mgradient, (ag__\u001B[38;5;241m.\u001B[39mld(loss), ag__\u001B[38;5;241m.\u001B[39mld(variables)), \u001B[38;5;28mdict\u001B[39m(unconnected_gradients\u001B[38;5;241m=\u001B[39mag__\u001B[38;5;241m.\u001B[39mld(unconnected_gradients)), fscope)\n\u001B[0;32m     14\u001B[0m \u001B[38;5;28;01mtry\u001B[39;00m:\n",
      "File \u001B[1;32m~\\AppData\\Local\\Temp\\__autograph_generated_filep8m1dv4k.py:15\u001B[0m, in \u001B[0;36mouter_factory.<locals>.inner_factory.<locals>.tf__training_loss\u001B[1;34m(self)\u001B[0m\n\u001B[0;32m     13\u001B[0m \u001B[38;5;28;01mtry\u001B[39;00m:\n\u001B[0;32m     14\u001B[0m     do_return \u001B[38;5;241m=\u001B[39m \u001B[38;5;28;01mTrue\u001B[39;00m\n\u001B[1;32m---> 15\u001B[0m     retval_ \u001B[38;5;241m=\u001B[39m ag__\u001B[38;5;241m.\u001B[39mconverted_call(ag__\u001B[38;5;241m.\u001B[39mld(\u001B[38;5;28mself\u001B[39m)\u001B[38;5;241m.\u001B[39m_training_loss, (), \u001B[38;5;28;01mNone\u001B[39;00m, fscope)\n\u001B[0;32m     16\u001B[0m \u001B[38;5;28;01mexcept\u001B[39;00m:\n\u001B[0;32m     17\u001B[0m     do_return \u001B[38;5;241m=\u001B[39m \u001B[38;5;28;01mFalse\u001B[39;00m\n",
      "File \u001B[1;32m~\\AppData\\Local\\Temp\\__autograph_generated_filek9hpmxfc.py:16\u001B[0m, in \u001B[0;36mouter_factory.<locals>.inner_factory.<locals>.tf___training_loss\u001B[1;34m(self, *args, **kwargs)\u001B[0m\n\u001B[0;32m     14\u001B[0m \u001B[38;5;28;01mtry\u001B[39;00m:\n\u001B[0;32m     15\u001B[0m     do_return \u001B[38;5;241m=\u001B[39m \u001B[38;5;28;01mTrue\u001B[39;00m\n\u001B[1;32m---> 16\u001B[0m     retval_ \u001B[38;5;241m=\u001B[39m \u001B[38;5;241m-\u001B[39m(ag__\u001B[38;5;241m.\u001B[39mconverted_call(ag__\u001B[38;5;241m.\u001B[39mld(\u001B[38;5;28mself\u001B[39m)\u001B[38;5;241m.\u001B[39mmaximum_log_likelihood_objective, \u001B[38;5;28mtuple\u001B[39m(ag__\u001B[38;5;241m.\u001B[39mld(args)), \u001B[38;5;28mdict\u001B[39m(\u001B[38;5;241m*\u001B[39m\u001B[38;5;241m*\u001B[39mag__\u001B[38;5;241m.\u001B[39mld(kwargs)), fscope) \u001B[38;5;241m+\u001B[39m ag__\u001B[38;5;241m.\u001B[39mconverted_call(ag__\u001B[38;5;241m.\u001B[39mld(\u001B[38;5;28mself\u001B[39m)\u001B[38;5;241m.\u001B[39mlog_prior_density, (), \u001B[38;5;28;01mNone\u001B[39;00m, fscope))\n\u001B[0;32m     17\u001B[0m \u001B[38;5;28;01mexcept\u001B[39;00m:\n\u001B[0;32m     18\u001B[0m     do_return \u001B[38;5;241m=\u001B[39m \u001B[38;5;28;01mFalse\u001B[39;00m\n",
      "File \u001B[1;32m~\\AppData\\Local\\Temp\\__autograph_generated_filetc9b5rpb.py:12\u001B[0m, in \u001B[0;36mouter_factory.<locals>.inner_factory.<locals>.tf__maximum_log_likelihood_objective\u001B[1;34m(self)\u001B[0m\n\u001B[0;32m     10\u001B[0m \u001B[38;5;28;01mtry\u001B[39;00m:\n\u001B[0;32m     11\u001B[0m     do_return \u001B[38;5;241m=\u001B[39m \u001B[38;5;28;01mTrue\u001B[39;00m\n\u001B[1;32m---> 12\u001B[0m     retval_ \u001B[38;5;241m=\u001B[39m ag__\u001B[38;5;241m.\u001B[39mconverted_call(ag__\u001B[38;5;241m.\u001B[39mld(\u001B[38;5;28mself\u001B[39m)\u001B[38;5;241m.\u001B[39mlog_marginal_likelihood, (), \u001B[38;5;28;01mNone\u001B[39;00m, fscope)\n\u001B[0;32m     13\u001B[0m \u001B[38;5;28;01mexcept\u001B[39;00m:\n\u001B[0;32m     14\u001B[0m     do_return \u001B[38;5;241m=\u001B[39m \u001B[38;5;28;01mFalse\u001B[39;00m\n",
      "File \u001B[1;32m~\\AppData\\Local\\Temp\\__autograph_generated_file77trclfz.py:12\u001B[0m, in \u001B[0;36mouter_factory.<locals>.inner_factory.<locals>.tf__log_marginal_likelihood\u001B[1;34m(self)\u001B[0m\n\u001B[0;32m     10\u001B[0m (X, Y) \u001B[38;5;241m=\u001B[39m ag__\u001B[38;5;241m.\u001B[39mld(\u001B[38;5;28mself\u001B[39m)\u001B[38;5;241m.\u001B[39mdata\n\u001B[0;32m     11\u001B[0m K \u001B[38;5;241m=\u001B[39m ag__\u001B[38;5;241m.\u001B[39mconverted_call(ag__\u001B[38;5;241m.\u001B[39mld(\u001B[38;5;28mself\u001B[39m)\u001B[38;5;241m.\u001B[39mkernel, (ag__\u001B[38;5;241m.\u001B[39mld(X),), \u001B[38;5;28;01mNone\u001B[39;00m, fscope)\n\u001B[1;32m---> 12\u001B[0m ks \u001B[38;5;241m=\u001B[39m ag__\u001B[38;5;241m.\u001B[39mconverted_call(ag__\u001B[38;5;241m.\u001B[39mld(add_noise_cov), (ag__\u001B[38;5;241m.\u001B[39mld(K), ag__\u001B[38;5;241m.\u001B[39mconverted_call(ag__\u001B[38;5;241m.\u001B[39mld(\u001B[38;5;28mself\u001B[39m)\u001B[38;5;241m.\u001B[39mlikelihood\u001B[38;5;241m.\u001B[39mconditional_variance, (ag__\u001B[38;5;241m.\u001B[39mld(X),), \u001B[38;5;28;01mNone\u001B[39;00m, fscope)), \u001B[38;5;28;01mNone\u001B[39;00m, fscope)\n\u001B[0;32m     13\u001B[0m inner_product \u001B[38;5;241m=\u001B[39m ag__\u001B[38;5;241m.\u001B[39mconverted_call(ag__\u001B[38;5;241m.\u001B[39mld(tf)\u001B[38;5;241m.\u001B[39mtranspose, (ag__\u001B[38;5;241m.\u001B[39mld(Y),), \u001B[38;5;28;01mNone\u001B[39;00m, fscope) \u001B[38;5;241m@\u001B[39m ag__\u001B[38;5;241m.\u001B[39mconverted_call(ag__\u001B[38;5;241m.\u001B[39mld(tf)\u001B[38;5;241m.\u001B[39mlinalg\u001B[38;5;241m.\u001B[39minv, (ag__\u001B[38;5;241m.\u001B[39mld(ks),), \u001B[38;5;28;01mNone\u001B[39;00m, fscope) \u001B[38;5;241m@\u001B[39m ag__\u001B[38;5;241m.\u001B[39mld(Y)\n\u001B[0;32m     14\u001B[0m log_det \u001B[38;5;241m=\u001B[39m ag__\u001B[38;5;241m.\u001B[39mconverted_call(ag__\u001B[38;5;241m.\u001B[39mld(tf)\u001B[38;5;241m.\u001B[39mlinalg\u001B[38;5;241m.\u001B[39mlogdet, (ag__\u001B[38;5;241m.\u001B[39mld(ks),), \u001B[38;5;28;01mNone\u001B[39;00m, fscope)\n",
      "File \u001B[1;32m~\\AppData\\Local\\Temp\\__autograph_generated_filegkcta6tw.py:18\u001B[0m, in \u001B[0;36mouter_factory.<locals>.inner_factory.<locals>.tf__conditional_variance\u001B[1;34m(self, F)\u001B[0m\n\u001B[0;32m     16\u001B[0m retval_ \u001B[38;5;241m=\u001B[39m ag__\u001B[38;5;241m.\u001B[39mUndefinedReturnValue()\n\u001B[0;32m     17\u001B[0m ag__\u001B[38;5;241m.\u001B[39mconverted_call(ag__\u001B[38;5;241m.\u001B[39mld(\u001B[38;5;28mself\u001B[39m)\u001B[38;5;241m.\u001B[39m_check_latent_dims, (ag__\u001B[38;5;241m.\u001B[39mld(F),), \u001B[38;5;28;01mNone\u001B[39;00m, fscope)\n\u001B[1;32m---> 18\u001B[0m var_Y \u001B[38;5;241m=\u001B[39m ag__\u001B[38;5;241m.\u001B[39mconverted_call(ag__\u001B[38;5;241m.\u001B[39mld(\u001B[38;5;28mself\u001B[39m)\u001B[38;5;241m.\u001B[39m_conditional_variance, (ag__\u001B[38;5;241m.\u001B[39mld(F),), \u001B[38;5;28;01mNone\u001B[39;00m, fscope)\n\u001B[0;32m     19\u001B[0m ag__\u001B[38;5;241m.\u001B[39mconverted_call(ag__\u001B[38;5;241m.\u001B[39mld(\u001B[38;5;28mself\u001B[39m)\u001B[38;5;241m.\u001B[39m_check_data_dims, (ag__\u001B[38;5;241m.\u001B[39mld(var_Y),), \u001B[38;5;28;01mNone\u001B[39;00m, fscope)\n\u001B[0;32m     20\u001B[0m \u001B[38;5;28;01mtry\u001B[39;00m:\n",
      "File \u001B[1;32m~\\AppData\\Local\\Temp\\__autograph_generated_file8jbp3ysr.py:8\u001B[0m, in \u001B[0;36mouter_factory.<locals>.inner_factory.<locals>.tf___conditional_variance\u001B[1;34m(self, F)\u001B[0m\n\u001B[0;32m      6\u001B[0m \u001B[38;5;28;01mdef\u001B[39;00m \u001B[38;5;21mtf___conditional_variance\u001B[39m(\u001B[38;5;28mself\u001B[39m, F: TensorType) \u001B[38;5;241m-\u001B[39m\u001B[38;5;241m>\u001B[39m tf\u001B[38;5;241m.\u001B[39mTensor:\n\u001B[0;32m      7\u001B[0m     \u001B[38;5;28;01mwith\u001B[39;00m ag__\u001B[38;5;241m.\u001B[39mFunctionScope(\u001B[38;5;124m'\u001B[39m\u001B[38;5;124m_conditional_variance\u001B[39m\u001B[38;5;124m'\u001B[39m, \u001B[38;5;124m'\u001B[39m\u001B[38;5;124mfscope\u001B[39m\u001B[38;5;124m'\u001B[39m, ag__\u001B[38;5;241m.\u001B[39mSTD) \u001B[38;5;28;01mas\u001B[39;00m fscope:\n\u001B[1;32m----> 8\u001B[0m         \u001B[38;5;28;01mraise\u001B[39;00m ag__\u001B[38;5;241m.\u001B[39mld(\u001B[38;5;167;01mNotImplementedError\u001B[39;00m)\n",
      "\u001B[1;31mNotImplementedError\u001B[0m: in user code:\n\n    File \"c:\\users\\jackp\\pycharmprojects\\triumf_gaussian_process\\venv\\lib\\site-packages\\gpflow\\optimizers\\scipy.py\", line 120, in _tf_eval  *\n        loss, grads = _compute_loss_and_gradients(\n    File \"c:\\users\\jackp\\pycharmprojects\\triumf_gaussian_process\\venv\\lib\\site-packages\\gpflow\\optimizers\\scipy.py\", line 223, in _compute_loss_and_gradients  *\n        loss = loss_closure()\n    File \"c:\\users\\jackp\\pycharmprojects\\triumf_gaussian_process\\venv\\lib\\site-packages\\gpflow\\models\\training_mixins.py\", line 60, in training_loss  *\n        return self._training_loss()  # type: ignore\n    File \"c:\\users\\jackp\\pycharmprojects\\triumf_gaussian_process\\venv\\lib\\site-packages\\gpflow\\models\\model.py\", line 54, in _training_loss  *\n        return -(self.maximum_log_likelihood_objective(*args, **kwargs) + self.log_prior_density())\n    File \"C:\\Users\\jackp\\PycharmProjects\\triumf_gaussian_process\\model\\multi_task_gp.py\", line 24, in maximum_log_likelihood_objective  *\n        return self.log_marginal_likelihood()\n    File \"C:\\Users\\jackp\\PycharmProjects\\triumf_gaussian_process\\model\\multi_task_gp.py\", line 29, in log_marginal_likelihood  *\n        ks = add_noise_cov(K, self.likelihood.conditional_variance(X))\n    File \"c:\\users\\jackp\\pycharmprojects\\triumf_gaussian_process\\venv\\lib\\site-packages\\gpflow\\likelihoods\\base.py\", line 134, in conditional_variance  *\n        var_Y = self._conditional_variance(F)\n    File \"c:\\users\\jackp\\pycharmprojects\\triumf_gaussian_process\\venv\\lib\\site-packages\\gpflow\\likelihoods\\base.py\", line 493, in _conditional_variance  *\n        raise NotImplementedError\n\n    NotImplementedError: \n"
     ]
    }
   ],
   "source": [
    "def optimize_model_with_scipy(model):\n",
    "    optimizer = gpf.optimizers.Scipy()\n",
    "    optimizer.minimize(\n",
    "        model.training_loss,\n",
    "        variables=model.trainable_variables,\n",
    "        method=\"l-bfgs-b\",\n",
    "        options={\"disp\": True, \"maxiter\": 1000},\n",
    "    )\n",
    "optimize_model_with_scipy(m)"
   ],
   "metadata": {
    "collapsed": false,
    "pycharm": {
     "name": "#%%\n"
    }
   }
  },
  {
   "cell_type": "code",
   "execution_count": null,
   "outputs": [],
   "source": [],
   "metadata": {
    "collapsed": false,
    "pycharm": {
     "name": "#%%\n"
    }
   }
  }
 ],
 "metadata": {
  "kernelspec": {
   "display_name": "Python 3",
   "language": "python",
   "name": "python3"
  },
  "language_info": {
   "codemirror_mode": {
    "name": "ipython",
    "version": 2
   },
   "file_extension": ".py",
   "mimetype": "text/x-python",
   "name": "python",
   "nbconvert_exporter": "python",
   "pygments_lexer": "ipython2",
   "version": "2.7.6"
  }
 },
 "nbformat": 4,
 "nbformat_minor": 0
}